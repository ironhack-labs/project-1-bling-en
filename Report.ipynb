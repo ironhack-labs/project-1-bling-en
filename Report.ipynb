{
 "cells": [
  {
   "cell_type": "markdown",
   "metadata": {},
   "source": [
    "---\n",
    "title: 'Cohort Analysis for Ironhack Payments'\n",
    "format: \n",
    "    html: \n",
    "        toc: true\n",
    "        page-layout: full\n",
    "        grid:\n",
    "            body-width: 1600px\n",
    "jupyter: python3\n",
    "---"
   ]
  },
  {
   "cell_type": "code",
   "execution_count": 81,
   "metadata": {},
   "outputs": [],
   "source": [
    "# To avoid confusion, we will disable warnings\n",
    "import warnings\n",
    "warnings.filterwarnings('ignore')"
   ]
  },
  {
   "cell_type": "markdown",
   "metadata": {},
   "source": [
    "## Exploratory Data Analysis"
   ]
  },
  {
   "cell_type": "markdown",
   "metadata": {},
   "source": [
    "> First, let's make sure we have the required modules"
   ]
  },
  {
   "cell_type": "code",
   "execution_count": 82,
   "metadata": {},
   "outputs": [],
   "source": [
    "# uncomment the rows bellow to install the modules\n",
    "# !pip install numpy\n",
    "# !pip install pandas\n",
    "# !pip install seaborn\n",
    "# !pip install matplotlib"
   ]
  },
  {
   "cell_type": "markdown",
   "metadata": {},
   "source": [
    ":::{.callout-tip}\n",
    "When using environments, replace !pip with %pip\n",
    ":::"
   ]
  },
  {
   "cell_type": "markdown",
   "metadata": {},
   "source": [
    "> Now let's import the modules"
   ]
  },
  {
   "cell_type": "code",
   "execution_count": 83,
   "metadata": {},
   "outputs": [],
   "source": [
    "import numpy as np\n",
    "import pandas as pd\n",
    "import seaborn as sns\n",
    "import matplotlib.pyplot as plt"
   ]
  },
  {
   "cell_type": "markdown",
   "metadata": {},
   "source": [
    "> And now let's load the CSV files we'll be using"
   ]
  },
  {
   "cell_type": "code",
   "execution_count": 84,
   "metadata": {},
   "outputs": [],
   "source": [
    "cash_df = pd.read_csv('project_dataset/extract - cash request - data analyst.csv')\n",
    "fees_df = pd.read_csv('project_dataset/extract - fees - data analyst - .csv')"
   ]
  },
  {
   "cell_type": "markdown",
   "metadata": {},
   "source": [
    "> Now we can start our exploratory analysis.\n",
    "\n",
    ":::{.callout-note}\n",
    "With `pandas` we can use [`.head()`](https://pandas.pydata.org/pandas-docs/stable/reference/api/pandas.DataFrame.head.html) or [`.tail()`](https://pandas.pydata.org/pandas-docs/stable/reference/api/pandas.DataFrame.tail.html), [`.info()`](https://pandas.pydata.org/pandas-docs/stable/reference/api/pandas.DataFrame.info.html), [`.shape`](https://pandas.pydata.org/pandas-docs/stable/reference/api/pandas.DataFrame.shape.html) and [`.describe()`](https://pandas.pydata.org/pandas-docs/stable/reference/api/pandas.DataFrame.describe.html) to get a quick view of the data.  \n",
    "We can also use [`.sample(<number of samples>)`](https://pandas.pydata.org/pandas-docs/stable/reference/api/pandas.DataFrame.sample.html) to see some randomly selected rows.\n",
    ":::"
   ]
  },
  {
   "cell_type": "code",
   "execution_count": 85,
   "metadata": {},
   "outputs": [
    {
     "data": {
      "text/plain": [
       "(23970, 16)"
      ]
     },
     "execution_count": 85,
     "metadata": {},
     "output_type": "execute_result"
    }
   ],
   "source": [
    "cash_df.shape"
   ]
  },
  {
   "cell_type": "code",
   "execution_count": 86,
   "metadata": {},
   "outputs": [
    {
     "data": {
      "text/html": [
       "<div>\n",
       "<style scoped>\n",
       "    .dataframe tbody tr th:only-of-type {\n",
       "        vertical-align: middle;\n",
       "    }\n",
       "\n",
       "    .dataframe tbody tr th {\n",
       "        vertical-align: top;\n",
       "    }\n",
       "\n",
       "    .dataframe thead th {\n",
       "        text-align: right;\n",
       "    }\n",
       "</style>\n",
       "<table border=\"1\" class=\"dataframe\">\n",
       "  <thead>\n",
       "    <tr style=\"text-align: right;\">\n",
       "      <th></th>\n",
       "      <th>id</th>\n",
       "      <th>amount</th>\n",
       "      <th>status</th>\n",
       "      <th>created_at</th>\n",
       "      <th>updated_at</th>\n",
       "      <th>user_id</th>\n",
       "      <th>moderated_at</th>\n",
       "      <th>deleted_account_id</th>\n",
       "      <th>reimbursement_date</th>\n",
       "      <th>cash_request_received_date</th>\n",
       "      <th>money_back_date</th>\n",
       "      <th>transfer_type</th>\n",
       "      <th>send_at</th>\n",
       "      <th>recovery_status</th>\n",
       "      <th>reco_creation</th>\n",
       "      <th>reco_last_update</th>\n",
       "    </tr>\n",
       "  </thead>\n",
       "  <tbody>\n",
       "    <tr>\n",
       "      <th>21918</th>\n",
       "      <td>24766</td>\n",
       "      <td>25.0</td>\n",
       "      <td>money_back</td>\n",
       "      <td>2020-10-26 17:05:53.991896+00</td>\n",
       "      <td>2020-12-18 13:13:10.238231+00</td>\n",
       "      <td>72667.0</td>\n",
       "      <td>NaN</td>\n",
       "      <td>NaN</td>\n",
       "      <td>2020-11-12 22:00:00+00</td>\n",
       "      <td>2020-10-28</td>\n",
       "      <td>2020-11-02 19:10:19.925894+00</td>\n",
       "      <td>instant</td>\n",
       "      <td>2020-10-26 17:06:12.839122+00</td>\n",
       "      <td>NaN</td>\n",
       "      <td>NaN</td>\n",
       "      <td>NaN</td>\n",
       "    </tr>\n",
       "    <tr>\n",
       "      <th>9036</th>\n",
       "      <td>240</td>\n",
       "      <td>100.0</td>\n",
       "      <td>money_back</td>\n",
       "      <td>2019-12-19 09:43:06.192936+00</td>\n",
       "      <td>2020-11-04 12:55:43.903359+00</td>\n",
       "      <td>1416.0</td>\n",
       "      <td>2019-12-19 16:09:50.14958+00</td>\n",
       "      <td>NaN</td>\n",
       "      <td>2020-01-08 23:00:00+00</td>\n",
       "      <td>2019-12-22</td>\n",
       "      <td>NaN</td>\n",
       "      <td>regular</td>\n",
       "      <td>NaN</td>\n",
       "      <td>NaN</td>\n",
       "      <td>NaN</td>\n",
       "      <td>NaN</td>\n",
       "    </tr>\n",
       "    <tr>\n",
       "      <th>21905</th>\n",
       "      <td>26321</td>\n",
       "      <td>50.0</td>\n",
       "      <td>money_back</td>\n",
       "      <td>2020-10-30 10:57:50.370156+00</td>\n",
       "      <td>2020-12-18 13:13:08.949415+00</td>\n",
       "      <td>NaN</td>\n",
       "      <td>2020-10-30 12:58:06.763165+00</td>\n",
       "      <td>21682.0</td>\n",
       "      <td>2020-11-09 10:58:07.259046+00</td>\n",
       "      <td>2020-11-03</td>\n",
       "      <td>2020-11-12 23:00:00+00</td>\n",
       "      <td>instant</td>\n",
       "      <td>2020-10-30 10:58:07.259046+00</td>\n",
       "      <td>NaN</td>\n",
       "      <td>NaN</td>\n",
       "      <td>NaN</td>\n",
       "    </tr>\n",
       "    <tr>\n",
       "      <th>23663</th>\n",
       "      <td>22377</td>\n",
       "      <td>50.0</td>\n",
       "      <td>money_back</td>\n",
       "      <td>2020-10-20 08:42:18.890812+00</td>\n",
       "      <td>2020-12-18 13:15:52.241104+00</td>\n",
       "      <td>NaN</td>\n",
       "      <td>NaN</td>\n",
       "      <td>24529.0</td>\n",
       "      <td>2020-11-02 22:00:00+00</td>\n",
       "      <td>2020-10-20</td>\n",
       "      <td>2020-11-02 19:50:53.849447+00</td>\n",
       "      <td>instant</td>\n",
       "      <td>2020-10-20 08:42:31.651295+00</td>\n",
       "      <td>NaN</td>\n",
       "      <td>NaN</td>\n",
       "      <td>NaN</td>\n",
       "    </tr>\n",
       "    <tr>\n",
       "      <th>23858</th>\n",
       "      <td>15613</td>\n",
       "      <td>100.0</td>\n",
       "      <td>money_back</td>\n",
       "      <td>2020-09-10 20:47:02.466296+00</td>\n",
       "      <td>2020-12-18 13:16:41.657016+00</td>\n",
       "      <td>20550.0</td>\n",
       "      <td>2020-09-11 09:32:57.00028+00</td>\n",
       "      <td>NaN</td>\n",
       "      <td>2020-12-11 23:00:00+00</td>\n",
       "      <td>2020-09-12</td>\n",
       "      <td>2020-12-12 19:21:17.44995+00</td>\n",
       "      <td>instant</td>\n",
       "      <td>2020-09-17 20:47:02.421589+00</td>\n",
       "      <td>NaN</td>\n",
       "      <td>NaN</td>\n",
       "      <td>NaN</td>\n",
       "    </tr>\n",
       "  </tbody>\n",
       "</table>\n",
       "</div>"
      ],
      "text/plain": [
       "          id  amount      status                     created_at  \\\n",
       "21918  24766    25.0  money_back  2020-10-26 17:05:53.991896+00   \n",
       "9036     240   100.0  money_back  2019-12-19 09:43:06.192936+00   \n",
       "21905  26321    50.0  money_back  2020-10-30 10:57:50.370156+00   \n",
       "23663  22377    50.0  money_back  2020-10-20 08:42:18.890812+00   \n",
       "23858  15613   100.0  money_back  2020-09-10 20:47:02.466296+00   \n",
       "\n",
       "                          updated_at  user_id                   moderated_at  \\\n",
       "21918  2020-12-18 13:13:10.238231+00  72667.0                            NaN   \n",
       "9036   2020-11-04 12:55:43.903359+00   1416.0   2019-12-19 16:09:50.14958+00   \n",
       "21905  2020-12-18 13:13:08.949415+00      NaN  2020-10-30 12:58:06.763165+00   \n",
       "23663  2020-12-18 13:15:52.241104+00      NaN                            NaN   \n",
       "23858  2020-12-18 13:16:41.657016+00  20550.0   2020-09-11 09:32:57.00028+00   \n",
       "\n",
       "       deleted_account_id             reimbursement_date  \\\n",
       "21918                 NaN         2020-11-12 22:00:00+00   \n",
       "9036                  NaN         2020-01-08 23:00:00+00   \n",
       "21905             21682.0  2020-11-09 10:58:07.259046+00   \n",
       "23663             24529.0         2020-11-02 22:00:00+00   \n",
       "23858                 NaN         2020-12-11 23:00:00+00   \n",
       "\n",
       "      cash_request_received_date                money_back_date transfer_type  \\\n",
       "21918                 2020-10-28  2020-11-02 19:10:19.925894+00       instant   \n",
       "9036                  2019-12-22                            NaN       regular   \n",
       "21905                 2020-11-03         2020-11-12 23:00:00+00       instant   \n",
       "23663                 2020-10-20  2020-11-02 19:50:53.849447+00       instant   \n",
       "23858                 2020-09-12   2020-12-12 19:21:17.44995+00       instant   \n",
       "\n",
       "                             send_at recovery_status reco_creation  \\\n",
       "21918  2020-10-26 17:06:12.839122+00             NaN           NaN   \n",
       "9036                             NaN             NaN           NaN   \n",
       "21905  2020-10-30 10:58:07.259046+00             NaN           NaN   \n",
       "23663  2020-10-20 08:42:31.651295+00             NaN           NaN   \n",
       "23858  2020-09-17 20:47:02.421589+00             NaN           NaN   \n",
       "\n",
       "      reco_last_update  \n",
       "21918              NaN  \n",
       "9036               NaN  \n",
       "21905              NaN  \n",
       "23663              NaN  \n",
       "23858              NaN  "
      ]
     },
     "execution_count": 86,
     "metadata": {},
     "output_type": "execute_result"
    }
   ],
   "source": [
    "cash_df.sample(5)"
   ]
  },
  {
   "cell_type": "code",
   "execution_count": 87,
   "metadata": {},
   "outputs": [
    {
     "name": "stdout",
     "output_type": "stream",
     "text": [
      "<class 'pandas.core.frame.DataFrame'>\n",
      "RangeIndex: 23970 entries, 0 to 23969\n",
      "Data columns (total 16 columns):\n",
      " #   Column                      Non-Null Count  Dtype  \n",
      "---  ------                      --------------  -----  \n",
      " 0   id                          23970 non-null  int64  \n",
      " 1   amount                      23970 non-null  float64\n",
      " 2   status                      23970 non-null  object \n",
      " 3   created_at                  23970 non-null  object \n",
      " 4   updated_at                  23970 non-null  object \n",
      " 5   user_id                     21867 non-null  float64\n",
      " 6   moderated_at                16035 non-null  object \n",
      " 7   deleted_account_id          2104 non-null   float64\n",
      " 8   reimbursement_date          23970 non-null  object \n",
      " 9   cash_request_received_date  16289 non-null  object \n",
      " 10  money_back_date             16543 non-null  object \n",
      " 11  transfer_type               23970 non-null  object \n",
      " 12  send_at                     16641 non-null  object \n",
      " 13  recovery_status             3330 non-null   object \n",
      " 14  reco_creation               3330 non-null   object \n",
      " 15  reco_last_update            3330 non-null   object \n",
      "dtypes: float64(3), int64(1), object(12)\n",
      "memory usage: 2.9+ MB\n"
     ]
    }
   ],
   "source": [
    "cash_df.info()"
   ]
  },
  {
   "cell_type": "code",
   "execution_count": 88,
   "metadata": {},
   "outputs": [
    {
     "data": {
      "text/plain": [
       "(21061, 13)"
      ]
     },
     "execution_count": 88,
     "metadata": {},
     "output_type": "execute_result"
    }
   ],
   "source": [
    "fees_df.shape"
   ]
  },
  {
   "cell_type": "code",
   "execution_count": 89,
   "metadata": {},
   "outputs": [
    {
     "data": {
      "text/html": [
       "<div>\n",
       "<style scoped>\n",
       "    .dataframe tbody tr th:only-of-type {\n",
       "        vertical-align: middle;\n",
       "    }\n",
       "\n",
       "    .dataframe tbody tr th {\n",
       "        vertical-align: top;\n",
       "    }\n",
       "\n",
       "    .dataframe thead th {\n",
       "        text-align: right;\n",
       "    }\n",
       "</style>\n",
       "<table border=\"1\" class=\"dataframe\">\n",
       "  <thead>\n",
       "    <tr style=\"text-align: right;\">\n",
       "      <th></th>\n",
       "      <th>id</th>\n",
       "      <th>cash_request_id</th>\n",
       "      <th>type</th>\n",
       "      <th>status</th>\n",
       "      <th>category</th>\n",
       "      <th>total_amount</th>\n",
       "      <th>reason</th>\n",
       "      <th>created_at</th>\n",
       "      <th>updated_at</th>\n",
       "      <th>paid_at</th>\n",
       "      <th>from_date</th>\n",
       "      <th>to_date</th>\n",
       "      <th>charge_moment</th>\n",
       "    </tr>\n",
       "  </thead>\n",
       "  <tbody>\n",
       "    <tr>\n",
       "      <th>9103</th>\n",
       "      <td>20753</td>\n",
       "      <td>26673.0</td>\n",
       "      <td>instant_payment</td>\n",
       "      <td>accepted</td>\n",
       "      <td>NaN</td>\n",
       "      <td>5.0</td>\n",
       "      <td>Instant Payment Cash Request 26673</td>\n",
       "      <td>2020-10-31 14:57:52.795959+00</td>\n",
       "      <td>2020-10-31 14:57:52.795982+00</td>\n",
       "      <td>2020-12-01 19:33:24.699443+00</td>\n",
       "      <td>NaN</td>\n",
       "      <td>NaN</td>\n",
       "      <td>after</td>\n",
       "    </tr>\n",
       "    <tr>\n",
       "      <th>5034</th>\n",
       "      <td>15563</td>\n",
       "      <td>22809.0</td>\n",
       "      <td>instant_payment</td>\n",
       "      <td>accepted</td>\n",
       "      <td>NaN</td>\n",
       "      <td>5.0</td>\n",
       "      <td>Instant Payment Cash Request 22809</td>\n",
       "      <td>2020-10-21 13:37:03.031799+00</td>\n",
       "      <td>2020-10-21 13:37:03.031822+00</td>\n",
       "      <td>2020-11-09 19:22:07.850431+00</td>\n",
       "      <td>NaN</td>\n",
       "      <td>NaN</td>\n",
       "      <td>after</td>\n",
       "    </tr>\n",
       "    <tr>\n",
       "      <th>8298</th>\n",
       "      <td>11616</td>\n",
       "      <td>19635.0</td>\n",
       "      <td>instant_payment</td>\n",
       "      <td>accepted</td>\n",
       "      <td>NaN</td>\n",
       "      <td>5.0</td>\n",
       "      <td>Instant Payment Cash Request 19635</td>\n",
       "      <td>2020-10-07 11:25:08.181376+00</td>\n",
       "      <td>2020-10-13 14:25:00.943121+00</td>\n",
       "      <td>2020-11-05 20:12:12.31062+00</td>\n",
       "      <td>NaN</td>\n",
       "      <td>NaN</td>\n",
       "      <td>after</td>\n",
       "    </tr>\n",
       "    <tr>\n",
       "      <th>766</th>\n",
       "      <td>17053</td>\n",
       "      <td>24075.0</td>\n",
       "      <td>instant_payment</td>\n",
       "      <td>accepted</td>\n",
       "      <td>NaN</td>\n",
       "      <td>5.0</td>\n",
       "      <td>Instant Payment Cash Request 24075</td>\n",
       "      <td>2020-10-24 13:17:55.56988+00</td>\n",
       "      <td>2020-10-24 13:17:55.569904+00</td>\n",
       "      <td>2020-11-24 12:22:45.799481+00</td>\n",
       "      <td>NaN</td>\n",
       "      <td>NaN</td>\n",
       "      <td>after</td>\n",
       "    </tr>\n",
       "    <tr>\n",
       "      <th>8835</th>\n",
       "      <td>16880</td>\n",
       "      <td>20214.0</td>\n",
       "      <td>postpone</td>\n",
       "      <td>cancelled</td>\n",
       "      <td>NaN</td>\n",
       "      <td>5.0</td>\n",
       "      <td>Postpone Cash Request 20214</td>\n",
       "      <td>2020-10-24 08:03:22.479585+00</td>\n",
       "      <td>2020-10-24 08:03:22.47966+00</td>\n",
       "      <td>NaN</td>\n",
       "      <td>2020-10-24 19:40:44.576+00</td>\n",
       "      <td>2020-11-06 11:00:00+00</td>\n",
       "      <td>before</td>\n",
       "    </tr>\n",
       "  </tbody>\n",
       "</table>\n",
       "</div>"
      ],
      "text/plain": [
       "         id  cash_request_id             type     status category  \\\n",
       "9103  20753          26673.0  instant_payment   accepted      NaN   \n",
       "5034  15563          22809.0  instant_payment   accepted      NaN   \n",
       "8298  11616          19635.0  instant_payment   accepted      NaN   \n",
       "766   17053          24075.0  instant_payment   accepted      NaN   \n",
       "8835  16880          20214.0         postpone  cancelled      NaN   \n",
       "\n",
       "      total_amount                              reason  \\\n",
       "9103           5.0  Instant Payment Cash Request 26673   \n",
       "5034           5.0  Instant Payment Cash Request 22809   \n",
       "8298           5.0  Instant Payment Cash Request 19635   \n",
       "766            5.0  Instant Payment Cash Request 24075   \n",
       "8835           5.0         Postpone Cash Request 20214   \n",
       "\n",
       "                         created_at                     updated_at  \\\n",
       "9103  2020-10-31 14:57:52.795959+00  2020-10-31 14:57:52.795982+00   \n",
       "5034  2020-10-21 13:37:03.031799+00  2020-10-21 13:37:03.031822+00   \n",
       "8298  2020-10-07 11:25:08.181376+00  2020-10-13 14:25:00.943121+00   \n",
       "766    2020-10-24 13:17:55.56988+00  2020-10-24 13:17:55.569904+00   \n",
       "8835  2020-10-24 08:03:22.479585+00   2020-10-24 08:03:22.47966+00   \n",
       "\n",
       "                            paid_at                   from_date  \\\n",
       "9103  2020-12-01 19:33:24.699443+00                         NaN   \n",
       "5034  2020-11-09 19:22:07.850431+00                         NaN   \n",
       "8298   2020-11-05 20:12:12.31062+00                         NaN   \n",
       "766   2020-11-24 12:22:45.799481+00                         NaN   \n",
       "8835                            NaN  2020-10-24 19:40:44.576+00   \n",
       "\n",
       "                     to_date charge_moment  \n",
       "9103                     NaN         after  \n",
       "5034                     NaN         after  \n",
       "8298                     NaN         after  \n",
       "766                      NaN         after  \n",
       "8835  2020-11-06 11:00:00+00        before  "
      ]
     },
     "execution_count": 89,
     "metadata": {},
     "output_type": "execute_result"
    }
   ],
   "source": [
    "fees_df.sample(5)"
   ]
  },
  {
   "cell_type": "code",
   "execution_count": 90,
   "metadata": {},
   "outputs": [
    {
     "name": "stdout",
     "output_type": "stream",
     "text": [
      "<class 'pandas.core.frame.DataFrame'>\n",
      "RangeIndex: 21061 entries, 0 to 21060\n",
      "Data columns (total 13 columns):\n",
      " #   Column           Non-Null Count  Dtype  \n",
      "---  ------           --------------  -----  \n",
      " 0   id               21061 non-null  int64  \n",
      " 1   cash_request_id  21057 non-null  float64\n",
      " 2   type             21061 non-null  object \n",
      " 3   status           21061 non-null  object \n",
      " 4   category         2196 non-null   object \n",
      " 5   total_amount     21061 non-null  float64\n",
      " 6   reason           21061 non-null  object \n",
      " 7   created_at       21061 non-null  object \n",
      " 8   updated_at       21061 non-null  object \n",
      " 9   paid_at          15531 non-null  object \n",
      " 10  from_date        7766 non-null   object \n",
      " 11  to_date          7766 non-null   object \n",
      " 12  charge_moment    21061 non-null  object \n",
      "dtypes: float64(2), int64(1), object(10)\n",
      "memory usage: 2.1+ MB\n"
     ]
    }
   ],
   "source": [
    "fees_df.info()"
   ]
  },
  {
   "cell_type": "markdown",
   "metadata": {},
   "source": [
    "> We already notice that we have some columns with **numbers** (`amount` in `cash_df` and `total_amount` in `fees_df`), **datetime** (`created_at`, `updated_at` etc) and **object** (`status`, `transfer_type` etc).  \n",
    "> Let's list the `unique()` values for latter."
   ]
  },
  {
   "cell_type": "code",
   "execution_count": 91,
   "metadata": {},
   "outputs": [
    {
     "name": "stdout",
     "output_type": "stream",
     "text": [
      "status: ['rejected' 'money_back' 'canceled' 'active' 'direct_debit_rejected'\n",
      " 'transaction_declined' 'direct_debit_sent']\n",
      "transfer_type: ['regular' 'instant']\n",
      "recover_status: [nan 'completed' 'pending' 'pending_direct_debit' 'cancelled']\n"
     ]
    }
   ],
   "source": [
    "print(f\"status: {cash_df['status'].unique()}\")\n",
    "print(f\"transfer_type: {cash_df['transfer_type'].unique()}\")\n",
    "print(f\"recover_status: {cash_df['recovery_status'].unique()}\")"
   ]
  },
  {
   "cell_type": "markdown",
   "metadata": {},
   "source": [
    ":::{.callout-important}\n",
    "Let's make a note that we have some `nan` (not-a-number) values - we'll get to that in a bit.\n",
    ":::"
   ]
  },
  {
   "cell_type": "code",
   "execution_count": 92,
   "metadata": {},
   "outputs": [
    {
     "name": "stdout",
     "output_type": "stream",
     "text": [
      "type: ['instant_payment' 'incident' 'postpone']\n",
      "status: ['rejected' 'accepted' 'cancelled' 'confirmed']\n",
      "category: [nan 'rejected_direct_debit' 'month_delay_on_payment']\n",
      "charge_moment: ['after' 'before']\n"
     ]
    }
   ],
   "source": [
    "print(f\"type: {fees_df['type'].unique()}\")\n",
    "print(f\"status: {fees_df['status'].unique()}\")\n",
    "print(f\"category: {fees_df['category'].unique()}\")\n",
    "print(f\"charge_moment: {fees_df['charge_moment'].unique()}\")"
   ]
  },
  {
   "cell_type": "markdown",
   "metadata": {},
   "source": [
    "## Data Quality Analysis Report"
   ]
  },
  {
   "cell_type": "markdown",
   "metadata": {},
   "source": [
    "> Now that we've got an idea of the data, let's check if there are any missing (empty or `null`) values in our dataframes.  \n",
    "> We can use [`.isna()`](https://pandas.pydata.org/pandas-docs/stable/reference/api/pandas.DataFrame.isna.html) (or its alias - `isnull()`) and the inverse [`notna()`](https://pandas.pydata.org/pandas-docs/stable/reference/api/pandas.DataFrame.notna.html#pandas.DataFrame.notna) to check if a value is **null**."
   ]
  },
  {
   "cell_type": "code",
   "execution_count": 93,
   "metadata": {},
   "outputs": [
    {
     "data": {
      "text/plain": [
       "id                                0\n",
       "amount                            0\n",
       "status                            0\n",
       "created_at                        0\n",
       "updated_at                        0\n",
       "user_id                        2103\n",
       "moderated_at                   7935\n",
       "deleted_account_id            21866\n",
       "reimbursement_date                0\n",
       "cash_request_received_date     7681\n",
       "money_back_date                7427\n",
       "transfer_type                     0\n",
       "send_at                        7329\n",
       "recovery_status               20640\n",
       "reco_creation                 20640\n",
       "reco_last_update              20640\n",
       "dtype: int64"
      ]
     },
     "execution_count": 93,
     "metadata": {},
     "output_type": "execute_result"
    }
   ],
   "source": [
    "cash_df.isna().sum() # by appending .sum() we get a sum of Null values, per row"
   ]
  },
  {
   "cell_type": "markdown",
   "metadata": {},
   "source": [
    "> We notice that the `user_id` column has 2103 `nan` values - but we also have a `deleted_account_id` column which contains id's for deleted user accounts.  \n",
    "Let's check if there are rows where both `user_id` and `deleted_account_id` are empty."
   ]
  },
  {
   "cell_type": "code",
   "execution_count": 94,
   "metadata": {},
   "outputs": [
    {
     "data": {
      "text/plain": [
       "0"
      ]
     },
     "execution_count": 94,
     "metadata": {},
     "output_type": "execute_result"
    }
   ],
   "source": [
    "(cash_df['user_id'].isna() & (cash_df['deleted_account_id'].isna())).sum()"
   ]
  },
  {
   "cell_type": "markdown",
   "metadata": {},
   "source": [
    "> For the rest of the columns `nan` values are not necessarily a problem, so we won't investigate them further.  \n",
    "> Now let's look at `fees_df`"
   ]
  },
  {
   "cell_type": "code",
   "execution_count": 95,
   "metadata": {},
   "outputs": [
    {
     "data": {
      "text/plain": [
       "id                     0\n",
       "cash_request_id        4\n",
       "type                   0\n",
       "status                 0\n",
       "category           18865\n",
       "total_amount           0\n",
       "reason                 0\n",
       "created_at             0\n",
       "updated_at             0\n",
       "paid_at             5530\n",
       "from_date          13295\n",
       "to_date            13295\n",
       "charge_moment          0\n",
       "dtype: int64"
      ]
     },
     "execution_count": 95,
     "metadata": {},
     "output_type": "execute_result"
    }
   ],
   "source": [
    "fees_df.isna().sum()"
   ]
  },
  {
   "cell_type": "markdown",
   "metadata": {},
   "source": [
    "> We notice there are 4 rows that don't have a value for `cash_request_id`"
   ]
  },
  {
   "cell_type": "markdown",
   "metadata": {},
   "source": [
    ":::{.callout-tip}\n",
    "The `isna()` function creates a **mask** with `True/False` where the values in the dataframe are `Null`. We can then use this **mask** to select rows from the dataframe\n",
    ":::"
   ]
  },
  {
   "cell_type": "code",
   "execution_count": 96,
   "metadata": {},
   "outputs": [
    {
     "data": {
      "text/html": [
       "<div>\n",
       "<style scoped>\n",
       "    .dataframe tbody tr th:only-of-type {\n",
       "        vertical-align: middle;\n",
       "    }\n",
       "\n",
       "    .dataframe tbody tr th {\n",
       "        vertical-align: top;\n",
       "    }\n",
       "\n",
       "    .dataframe thead th {\n",
       "        text-align: right;\n",
       "    }\n",
       "</style>\n",
       "<table border=\"1\" class=\"dataframe\">\n",
       "  <thead>\n",
       "    <tr style=\"text-align: right;\">\n",
       "      <th></th>\n",
       "      <th>id</th>\n",
       "      <th>cash_request_id</th>\n",
       "      <th>type</th>\n",
       "      <th>status</th>\n",
       "      <th>category</th>\n",
       "      <th>total_amount</th>\n",
       "      <th>reason</th>\n",
       "      <th>created_at</th>\n",
       "      <th>updated_at</th>\n",
       "      <th>paid_at</th>\n",
       "      <th>from_date</th>\n",
       "      <th>to_date</th>\n",
       "      <th>charge_moment</th>\n",
       "    </tr>\n",
       "  </thead>\n",
       "  <tbody>\n",
       "    <tr>\n",
       "      <th>1911</th>\n",
       "      <td>2990</td>\n",
       "      <td>NaN</td>\n",
       "      <td>instant_payment</td>\n",
       "      <td>cancelled</td>\n",
       "      <td>NaN</td>\n",
       "      <td>5.0</td>\n",
       "      <td>Instant Payment Cash Request 11164</td>\n",
       "      <td>2020-08-06 22:42:34.525373+00</td>\n",
       "      <td>2020-11-04 16:01:17.296048+00</td>\n",
       "      <td>NaN</td>\n",
       "      <td>NaN</td>\n",
       "      <td>NaN</td>\n",
       "      <td>after</td>\n",
       "    </tr>\n",
       "    <tr>\n",
       "      <th>1960</th>\n",
       "      <td>3124</td>\n",
       "      <td>NaN</td>\n",
       "      <td>instant_payment</td>\n",
       "      <td>cancelled</td>\n",
       "      <td>NaN</td>\n",
       "      <td>5.0</td>\n",
       "      <td>Instant Payment Cash Request 11444</td>\n",
       "      <td>2020-08-08 06:33:06.244651+00</td>\n",
       "      <td>2020-11-04 16:01:08.332978+00</td>\n",
       "      <td>NaN</td>\n",
       "      <td>NaN</td>\n",
       "      <td>NaN</td>\n",
       "      <td>after</td>\n",
       "    </tr>\n",
       "    <tr>\n",
       "      <th>4605</th>\n",
       "      <td>5185</td>\n",
       "      <td>NaN</td>\n",
       "      <td>instant_payment</td>\n",
       "      <td>cancelled</td>\n",
       "      <td>NaN</td>\n",
       "      <td>5.0</td>\n",
       "      <td>Instant Payment Cash Request 11788</td>\n",
       "      <td>2020-08-26 09:39:37.362933+00</td>\n",
       "      <td>2020-11-04 16:01:36.492576+00</td>\n",
       "      <td>NaN</td>\n",
       "      <td>NaN</td>\n",
       "      <td>NaN</td>\n",
       "      <td>after</td>\n",
       "    </tr>\n",
       "    <tr>\n",
       "      <th>11870</th>\n",
       "      <td>3590</td>\n",
       "      <td>NaN</td>\n",
       "      <td>instant_payment</td>\n",
       "      <td>cancelled</td>\n",
       "      <td>NaN</td>\n",
       "      <td>5.0</td>\n",
       "      <td>Instant Payment Cash Request 12212</td>\n",
       "      <td>2020-08-12 14:20:06.657075+00</td>\n",
       "      <td>2020-11-04 16:01:53.106416+00</td>\n",
       "      <td>NaN</td>\n",
       "      <td>NaN</td>\n",
       "      <td>NaN</td>\n",
       "      <td>after</td>\n",
       "    </tr>\n",
       "  </tbody>\n",
       "</table>\n",
       "</div>"
      ],
      "text/plain": [
       "         id  cash_request_id             type     status category  \\\n",
       "1911   2990              NaN  instant_payment  cancelled      NaN   \n",
       "1960   3124              NaN  instant_payment  cancelled      NaN   \n",
       "4605   5185              NaN  instant_payment  cancelled      NaN   \n",
       "11870  3590              NaN  instant_payment  cancelled      NaN   \n",
       "\n",
       "       total_amount                              reason  \\\n",
       "1911            5.0  Instant Payment Cash Request 11164   \n",
       "1960            5.0  Instant Payment Cash Request 11444   \n",
       "4605            5.0  Instant Payment Cash Request 11788   \n",
       "11870           5.0  Instant Payment Cash Request 12212   \n",
       "\n",
       "                          created_at                     updated_at paid_at  \\\n",
       "1911   2020-08-06 22:42:34.525373+00  2020-11-04 16:01:17.296048+00     NaN   \n",
       "1960   2020-08-08 06:33:06.244651+00  2020-11-04 16:01:08.332978+00     NaN   \n",
       "4605   2020-08-26 09:39:37.362933+00  2020-11-04 16:01:36.492576+00     NaN   \n",
       "11870  2020-08-12 14:20:06.657075+00  2020-11-04 16:01:53.106416+00     NaN   \n",
       "\n",
       "      from_date to_date charge_moment  \n",
       "1911        NaN     NaN         after  \n",
       "1960        NaN     NaN         after  \n",
       "4605        NaN     NaN         after  \n",
       "11870       NaN     NaN         after  "
      ]
     },
     "execution_count": 96,
     "metadata": {},
     "output_type": "execute_result"
    }
   ],
   "source": [
    "fees_df[fees_df['cash_request_id'].isna()]"
   ]
  },
  {
   "cell_type": "markdown",
   "metadata": {},
   "source": [
    "> As the `cash_request_id` is a reference to the `id` from the `cash_df` dataframe, and there are only 4 rows, we can safely remove/ignore these instances."
   ]
  },
  {
   "cell_type": "markdown",
   "metadata": {},
   "source": [
    ":::{.callout-tip}\n",
    "We can use the inverse method `.notna()` and re-assign `fees_df` to the dataframe without `Null` values.\n",
    ":::"
   ]
  },
  {
   "cell_type": "code",
   "execution_count": 97,
   "metadata": {},
   "outputs": [
    {
     "data": {
      "text/plain": [
       "id                     0\n",
       "cash_request_id        0\n",
       "type                   0\n",
       "status                 0\n",
       "category           18861\n",
       "total_amount           0\n",
       "reason                 0\n",
       "created_at             0\n",
       "updated_at             0\n",
       "paid_at             5526\n",
       "from_date          13291\n",
       "to_date            13291\n",
       "charge_moment          0\n",
       "dtype: int64"
      ]
     },
     "execution_count": 97,
     "metadata": {},
     "output_type": "execute_result"
    }
   ],
   "source": [
    "fees_df = fees_df[fees_df['cash_request_id'].notna()]\n",
    "fees_df.isna().sum()"
   ]
  },
  {
   "cell_type": "markdown",
   "metadata": {},
   "source": [
    "## Metrics Analysis"
   ]
  },
  {
   "cell_type": "markdown",
   "metadata": {},
   "source": [
    "> Before we can actually do our analysis, we need to prepare the dataframes for easier manipulation.  \n",
    "> For this we'll convert the datetime values to the correct type."
   ]
  },
  {
   "cell_type": "code",
   "execution_count": 98,
   "metadata": {},
   "outputs": [],
   "source": [
    "datetime_columns_cash = ['created_at', 'updated_at', 'moderated_at', 'reimbursement_date',\\\n",
    "                          'cash_request_received_date', 'money_back_date', 'send_at',\\\n",
    "                         'reco_creation', 'reco_last_update']\n",
    "\n",
    "for column in datetime_columns_cash:\n",
    "    cash_df[column] = pd.to_datetime(cash_df[column]) # in python3.11.8 we need to add format='mixed'"
   ]
  },
  {
   "cell_type": "code",
   "execution_count": 99,
   "metadata": {},
   "outputs": [
    {
     "name": "stdout",
     "output_type": "stream",
     "text": [
      "<class 'pandas.core.frame.DataFrame'>\n",
      "RangeIndex: 23970 entries, 0 to 23969\n",
      "Data columns (total 16 columns):\n",
      " #   Column                      Non-Null Count  Dtype              \n",
      "---  ------                      --------------  -----              \n",
      " 0   id                          23970 non-null  int64              \n",
      " 1   amount                      23970 non-null  float64            \n",
      " 2   status                      23970 non-null  object             \n",
      " 3   created_at                  23970 non-null  datetime64[ns, UTC]\n",
      " 4   updated_at                  23970 non-null  datetime64[ns, UTC]\n",
      " 5   user_id                     21867 non-null  float64            \n",
      " 6   moderated_at                16035 non-null  datetime64[ns, UTC]\n",
      " 7   deleted_account_id          2104 non-null   float64            \n",
      " 8   reimbursement_date          23970 non-null  datetime64[ns, UTC]\n",
      " 9   cash_request_received_date  16289 non-null  datetime64[ns]     \n",
      " 10  money_back_date             16543 non-null  datetime64[ns, UTC]\n",
      " 11  transfer_type               23970 non-null  object             \n",
      " 12  send_at                     16641 non-null  datetime64[ns, UTC]\n",
      " 13  recovery_status             3330 non-null   object             \n",
      " 14  reco_creation               3330 non-null   datetime64[ns, UTC]\n",
      " 15  reco_last_update            3330 non-null   datetime64[ns, UTC]\n",
      "dtypes: datetime64[ns, UTC](8), datetime64[ns](1), float64(3), int64(1), object(3)\n",
      "memory usage: 2.9+ MB\n"
     ]
    }
   ],
   "source": [
    "cash_df.info()"
   ]
  },
  {
   "cell_type": "code",
   "execution_count": 100,
   "metadata": {},
   "outputs": [],
   "source": [
    "datetime_columns_fees = ['created_at', 'updated_at', 'paid_at', 'from_date', 'to_date']\n",
    "for column in datetime_columns_fees:\n",
    "    fees_df[column] = pd.to_datetime(fees_df[column])"
   ]
  },
  {
   "cell_type": "code",
   "execution_count": 101,
   "metadata": {},
   "outputs": [
    {
     "name": "stdout",
     "output_type": "stream",
     "text": [
      "<class 'pandas.core.frame.DataFrame'>\n",
      "Int64Index: 21057 entries, 0 to 21060\n",
      "Data columns (total 13 columns):\n",
      " #   Column           Non-Null Count  Dtype              \n",
      "---  ------           --------------  -----              \n",
      " 0   id               21057 non-null  int64              \n",
      " 1   cash_request_id  21057 non-null  float64            \n",
      " 2   type             21057 non-null  object             \n",
      " 3   status           21057 non-null  object             \n",
      " 4   category         2196 non-null   object             \n",
      " 5   total_amount     21057 non-null  float64            \n",
      " 6   reason           21057 non-null  object             \n",
      " 7   created_at       21057 non-null  datetime64[ns, UTC]\n",
      " 8   updated_at       21057 non-null  datetime64[ns, UTC]\n",
      " 9   paid_at          15531 non-null  datetime64[ns, UTC]\n",
      " 10  from_date        7766 non-null   datetime64[ns, UTC]\n",
      " 11  to_date          7766 non-null   datetime64[ns, UTC]\n",
      " 12  charge_moment    21057 non-null  object             \n",
      "dtypes: datetime64[ns, UTC](5), float64(2), int64(1), object(5)\n",
      "memory usage: 2.2+ MB\n"
     ]
    }
   ],
   "source": [
    "fees_df.info()"
   ]
  },
  {
   "cell_type": "markdown",
   "metadata": {},
   "source": [
    "> Now that our dataframes are cleaned and the values are of the correct type, we can start our analysis."
   ]
  },
  {
   "cell_type": "markdown",
   "metadata": {},
   "source": [
    "### 1. Frequency of Service Usage\n",
    "\n",
    "**Understand how often users from each cohort utilize IronHack Payments' cash advance services over time.**"
   ]
  },
  {
   "cell_type": "markdown",
   "metadata": {},
   "source": [
    "> To determine the utilisation of the IronHack Payments' service, we first need to group users in cohorts.  \n",
    "> We will use the `created_at` field to generate the user cohorts, split by months."
   ]
  },
  {
   "cell_type": "code",
   "execution_count": 143,
   "metadata": {},
   "outputs": [],
   "source": [
    "cash_df['cohort'] = cash_df['created_at'].dt.to_period('M')"
   ]
  },
  {
   "cell_type": "code",
   "execution_count": 149,
   "metadata": {},
   "outputs": [
    {
     "data": {
      "text/plain": [
       "cohort\n",
       "2019-11       1\n",
       "2019-12     289\n",
       "2020-01     223\n",
       "2020-02     184\n",
       "2020-03     244\n",
       "2020-04     473\n",
       "2020-05     837\n",
       "2020-06    2615\n",
       "2020-07    3601\n",
       "2020-08    3417\n",
       "2020-09    4221\n",
       "2020-10    7725\n",
       "2020-11     140\n",
       "Freq: M, dtype: int64"
      ]
     },
     "execution_count": 149,
     "metadata": {},
     "output_type": "execute_result"
    }
   ],
   "source": [
    "cohort_counts = cash_df.groupby('cohort').size()\n",
    "cohort_counts"
   ]
  },
  {
   "cell_type": "markdown",
   "metadata": {},
   "source": [
    "> By analysing the cohort sizes, we can deduct that the data is incomplete for the first (2019-11) and last (2020-11) months - to avoid confusion we will hide these months from our plot."
   ]
  },
  {
   "cell_type": "code",
   "execution_count": 150,
   "metadata": {},
   "outputs": [],
   "source": [
    "cohort_counts = cohort_counts.iloc[1:-1]"
   ]
  },
  {
   "cell_type": "code",
   "execution_count": 151,
   "metadata": {},
   "outputs": [
    {
     "data": {
      "image/png": "[encoded data removed]",
      "text/plain": [
       "<Figure size 1000x600 with 1 Axes>"
      ]
     },
     "metadata": {},
     "output_type": "display_data"
    }
   ],
   "source": [
    "plt.figure(figsize=(10, 6))\n",
    "freq_use = sns.barplot(x=cohort_counts.index.astype(str), y=cohort_counts.values, palette='magma_r')\n",
    "plt.title('Number of Cash Requests per Cohort')\n",
    "plt.xlabel('Cohort')\n",
    "plt.ylabel('Number of Cash Requests')\n",
    "plt.xticks(rotation=45)\n",
    "plt.tight_layout()\n",
    "# we can also show the values directly in the plot\n",
    "for i in freq_use.containers:\n",
    "    freq_use.bar_label(i,)\n",
    "\n",
    "plt.show()"
   ]
  },
  {
   "cell_type": "markdown",
   "metadata": {},
   "source": [
    "### 2. Incident Rate\n",
    "**Determine the incident rate, specifically focusing on payment incidents, for each cohort. Identify if there are variations in incident rates among different cohorts.**"
   ]
  },
  {
   "cell_type": "markdown",
   "metadata": {},
   "source": [
    "> To determine the **Incident Rate** we will look at the `fees_df` dataframe.  \n",
    "> More specifically, we will consider an **incident** all the rows where `category` is *rejected_direct_debit* or *month_delay_on_payment*.  \n",
    "> To actually determine the **rate** we need to calculate the percentage of *incidents* from all the fees payments.\n",
    ">  \n",
    "> First we will merge the two dataframes using the `id` from `cash_df` and `cash_request_id` from `fees_df` as indexes.\n",
    ">  \n",
    "> We will do a `inner` merge to assure that only the rows where there is a match between `id` and `cash_request_id` in both dataframes are included."
   ]
  },
  {
   "cell_type": "code",
   "execution_count": 106,
   "metadata": {},
   "outputs": [
    {
     "data": {
      "text/html": [
       "<div>\n",
       "<style scoped>\n",
       "    .dataframe tbody tr th:only-of-type {\n",
       "        vertical-align: middle;\n",
       "    }\n",
       "\n",
       "    .dataframe tbody tr th {\n",
       "        vertical-align: top;\n",
       "    }\n",
       "\n",
       "    .dataframe thead th {\n",
       "        text-align: right;\n",
       "    }\n",
       "</style>\n",
       "<table border=\"1\" class=\"dataframe\">\n",
       "  <thead>\n",
       "    <tr style=\"text-align: right;\">\n",
       "      <th></th>\n",
       "      <th>id_cash</th>\n",
       "      <th>amount</th>\n",
       "      <th>status_cash</th>\n",
       "      <th>created_at_cash</th>\n",
       "      <th>updated_at_cash</th>\n",
       "      <th>user_id</th>\n",
       "      <th>moderated_at</th>\n",
       "      <th>deleted_account_id</th>\n",
       "      <th>reimbursement_date</th>\n",
       "      <th>cash_request_received_date</th>\n",
       "      <th>...</th>\n",
       "      <th>status_fees</th>\n",
       "      <th>category</th>\n",
       "      <th>total_amount</th>\n",
       "      <th>reason</th>\n",
       "      <th>created_at_fees</th>\n",
       "      <th>updated_at_fees</th>\n",
       "      <th>paid_at</th>\n",
       "      <th>from_date</th>\n",
       "      <th>to_date</th>\n",
       "      <th>charge_moment</th>\n",
       "    </tr>\n",
       "  </thead>\n",
       "  <tbody>\n",
       "    <tr>\n",
       "      <th>0</th>\n",
       "      <td>23534</td>\n",
       "      <td>25.0</td>\n",
       "      <td>money_back</td>\n",
       "      <td>2020-10-23 15:20:26.163927+00:00</td>\n",
       "      <td>2020-12-18 13:08:29.099365+00:00</td>\n",
       "      <td>21465.0</td>\n",
       "      <td>NaT</td>\n",
       "      <td>NaN</td>\n",
       "      <td>2020-11-10 23:51:00+00:00</td>\n",
       "      <td>NaT</td>\n",
       "      <td>...</td>\n",
       "      <td>accepted</td>\n",
       "      <td>NaN</td>\n",
       "      <td>5.0</td>\n",
       "      <td>Instant Payment Cash Request 23534</td>\n",
       "      <td>2020-10-23 15:21:35.895711+00:00</td>\n",
       "      <td>2020-10-23 15:21:35.895740+00:00</td>\n",
       "      <td>2020-11-06 07:16:22.014422+00:00</td>\n",
       "      <td>NaT</td>\n",
       "      <td>NaT</td>\n",
       "      <td>after</td>\n",
       "    </tr>\n",
       "    <tr>\n",
       "      <th>1</th>\n",
       "      <td>2203</td>\n",
       "      <td>100.0</td>\n",
       "      <td>money_back</td>\n",
       "      <td>2020-05-27 02:26:27.615190+00:00</td>\n",
       "      <td>2020-06-09 11:25:51.726360+00:00</td>\n",
       "      <td>2109.0</td>\n",
       "      <td>2020-05-27 10:02:13.094467+00:00</td>\n",
       "      <td>NaN</td>\n",
       "      <td>2020-07-15 02:26:27+00:00</td>\n",
       "      <td>2020-05-29</td>\n",
       "      <td>...</td>\n",
       "      <td>accepted</td>\n",
       "      <td>NaN</td>\n",
       "      <td>5.0</td>\n",
       "      <td>Postpone Cash Request 2203</td>\n",
       "      <td>2020-06-09 11:25:52.449808+00:00</td>\n",
       "      <td>2020-10-13 14:25:00.867548+00:00</td>\n",
       "      <td>NaT</td>\n",
       "      <td>2020-06-15 02:26:27+00:00</td>\n",
       "      <td>2020-07-15 02:26:27+00:00</td>\n",
       "      <td>before</td>\n",
       "    </tr>\n",
       "    <tr>\n",
       "      <th>2</th>\n",
       "      <td>6098</td>\n",
       "      <td>100.0</td>\n",
       "      <td>active</td>\n",
       "      <td>2020-07-01 09:30:03.145410+00:00</td>\n",
       "      <td>2020-08-11 22:27:58.240406+00:00</td>\n",
       "      <td>23328.0</td>\n",
       "      <td>2020-07-01 16:44:53.070844+00:00</td>\n",
       "      <td>NaN</td>\n",
       "      <td>2020-08-03 22:00:00+00:00</td>\n",
       "      <td>2020-07-03</td>\n",
       "      <td>...</td>\n",
       "      <td>cancelled</td>\n",
       "      <td>NaN</td>\n",
       "      <td>5.0</td>\n",
       "      <td>Postpone Cash Request 6098</td>\n",
       "      <td>2020-08-13 10:58:39.634220+00:00</td>\n",
       "      <td>2020-10-13 14:25:16.660127+00:00</td>\n",
       "      <td>NaT</td>\n",
       "      <td>2020-08-03 22:00:00+00:00</td>\n",
       "      <td>2020-09-03 10:58:32.274000+00:00</td>\n",
       "      <td>after</td>\n",
       "    </tr>\n",
       "    <tr>\n",
       "      <th>3</th>\n",
       "      <td>6098</td>\n",
       "      <td>100.0</td>\n",
       "      <td>active</td>\n",
       "      <td>2020-07-01 09:30:03.145410+00:00</td>\n",
       "      <td>2020-08-11 22:27:58.240406+00:00</td>\n",
       "      <td>23328.0</td>\n",
       "      <td>2020-07-01 16:44:53.070844+00:00</td>\n",
       "      <td>NaN</td>\n",
       "      <td>2020-08-03 22:00:00+00:00</td>\n",
       "      <td>2020-07-03</td>\n",
       "      <td>...</td>\n",
       "      <td>cancelled</td>\n",
       "      <td>NaN</td>\n",
       "      <td>5.0</td>\n",
       "      <td>Postpone Cash Request 6098</td>\n",
       "      <td>2020-08-13 10:58:52.603153+00:00</td>\n",
       "      <td>2020-10-13 14:25:16.661371+00:00</td>\n",
       "      <td>NaT</td>\n",
       "      <td>2020-08-03 22:00:00+00:00</td>\n",
       "      <td>2020-09-03 10:58:32.274000+00:00</td>\n",
       "      <td>after</td>\n",
       "    </tr>\n",
       "    <tr>\n",
       "      <th>4</th>\n",
       "      <td>6098</td>\n",
       "      <td>100.0</td>\n",
       "      <td>active</td>\n",
       "      <td>2020-07-01 09:30:03.145410+00:00</td>\n",
       "      <td>2020-08-11 22:27:58.240406+00:00</td>\n",
       "      <td>23328.0</td>\n",
       "      <td>2020-07-01 16:44:53.070844+00:00</td>\n",
       "      <td>NaN</td>\n",
       "      <td>2020-08-03 22:00:00+00:00</td>\n",
       "      <td>2020-07-03</td>\n",
       "      <td>...</td>\n",
       "      <td>cancelled</td>\n",
       "      <td>NaN</td>\n",
       "      <td>5.0</td>\n",
       "      <td>Postpone Cash Request 6098</td>\n",
       "      <td>2020-08-13 11:00:39.879521+00:00</td>\n",
       "      <td>2020-10-13 14:25:16.662449+00:00</td>\n",
       "      <td>NaT</td>\n",
       "      <td>2020-08-03 22:00:00+00:00</td>\n",
       "      <td>2020-09-01 11:00:34.027000+00:00</td>\n",
       "      <td>after</td>\n",
       "    </tr>\n",
       "    <tr>\n",
       "      <th>...</th>\n",
       "      <td>...</td>\n",
       "      <td>...</td>\n",
       "      <td>...</td>\n",
       "      <td>...</td>\n",
       "      <td>...</td>\n",
       "      <td>...</td>\n",
       "      <td>...</td>\n",
       "      <td>...</td>\n",
       "      <td>...</td>\n",
       "      <td>...</td>\n",
       "      <td>...</td>\n",
       "      <td>...</td>\n",
       "      <td>...</td>\n",
       "      <td>...</td>\n",
       "      <td>...</td>\n",
       "      <td>...</td>\n",
       "      <td>...</td>\n",
       "      <td>...</td>\n",
       "      <td>...</td>\n",
       "      <td>...</td>\n",
       "      <td>...</td>\n",
       "    </tr>\n",
       "    <tr>\n",
       "      <th>21052</th>\n",
       "      <td>22357</td>\n",
       "      <td>100.0</td>\n",
       "      <td>money_back</td>\n",
       "      <td>2020-10-20 07:58:04.006937+00:00</td>\n",
       "      <td>2021-02-05 12:19:30.656816+00:00</td>\n",
       "      <td>82122.0</td>\n",
       "      <td>NaT</td>\n",
       "      <td>NaN</td>\n",
       "      <td>2021-02-05 11:00:00+00:00</td>\n",
       "      <td>2020-10-21</td>\n",
       "      <td>...</td>\n",
       "      <td>accepted</td>\n",
       "      <td>NaN</td>\n",
       "      <td>5.0</td>\n",
       "      <td>Instant Payment Cash Request 22357</td>\n",
       "      <td>2020-10-20 07:58:19.637461+00:00</td>\n",
       "      <td>2020-10-20 07:58:19.637491+00:00</td>\n",
       "      <td>2021-02-05 12:19:30.685779+00:00</td>\n",
       "      <td>NaT</td>\n",
       "      <td>NaT</td>\n",
       "      <td>after</td>\n",
       "    </tr>\n",
       "    <tr>\n",
       "      <th>21053</th>\n",
       "      <td>20256</td>\n",
       "      <td>100.0</td>\n",
       "      <td>money_back</td>\n",
       "      <td>2020-10-10 05:40:55.700422+00:00</td>\n",
       "      <td>2021-02-05 13:14:19.707627+00:00</td>\n",
       "      <td>64517.0</td>\n",
       "      <td>NaT</td>\n",
       "      <td>NaN</td>\n",
       "      <td>2021-02-05 11:00:00+00:00</td>\n",
       "      <td>2020-10-12</td>\n",
       "      <td>...</td>\n",
       "      <td>accepted</td>\n",
       "      <td>NaN</td>\n",
       "      <td>5.0</td>\n",
       "      <td>Postpone Cash Request 20256</td>\n",
       "      <td>2020-10-30 17:08:16.906449+00:00</td>\n",
       "      <td>2020-10-30 17:08:21.967966+00:00</td>\n",
       "      <td>2020-10-30 17:08:21.416796+00:00</td>\n",
       "      <td>2020-11-06 11:00:00+00:00</td>\n",
       "      <td>2020-12-07 11:00:00+00:00</td>\n",
       "      <td>before</td>\n",
       "    </tr>\n",
       "    <tr>\n",
       "      <th>21054</th>\n",
       "      <td>20256</td>\n",
       "      <td>100.0</td>\n",
       "      <td>money_back</td>\n",
       "      <td>2020-10-10 05:40:55.700422+00:00</td>\n",
       "      <td>2021-02-05 13:14:19.707627+00:00</td>\n",
       "      <td>64517.0</td>\n",
       "      <td>NaT</td>\n",
       "      <td>NaN</td>\n",
       "      <td>2021-02-05 11:00:00+00:00</td>\n",
       "      <td>2020-10-12</td>\n",
       "      <td>...</td>\n",
       "      <td>accepted</td>\n",
       "      <td>NaN</td>\n",
       "      <td>5.0</td>\n",
       "      <td>Instant Payment Cash Request 20256</td>\n",
       "      <td>2020-10-10 05:42:11.679401+00:00</td>\n",
       "      <td>2020-10-13 14:25:03.460352+00:00</td>\n",
       "      <td>2021-02-05 13:14:19.731397+00:00</td>\n",
       "      <td>NaT</td>\n",
       "      <td>NaT</td>\n",
       "      <td>after</td>\n",
       "    </tr>\n",
       "    <tr>\n",
       "      <th>21055</th>\n",
       "      <td>19886</td>\n",
       "      <td>100.0</td>\n",
       "      <td>direct_debit_sent</td>\n",
       "      <td>2020-10-08 14:16:52.155661+00:00</td>\n",
       "      <td>2021-01-05 15:45:52.645536+00:00</td>\n",
       "      <td>44867.0</td>\n",
       "      <td>NaT</td>\n",
       "      <td>NaN</td>\n",
       "      <td>2021-02-05 11:00:00+00:00</td>\n",
       "      <td>2020-10-10</td>\n",
       "      <td>...</td>\n",
       "      <td>accepted</td>\n",
       "      <td>NaN</td>\n",
       "      <td>5.0</td>\n",
       "      <td>Postpone Cash Request 19886</td>\n",
       "      <td>2020-10-10 21:22:00.083739+00:00</td>\n",
       "      <td>2020-10-13 14:25:18.501716+00:00</td>\n",
       "      <td>2020-10-10 21:22:04.456828+00:00</td>\n",
       "      <td>2020-11-06 22:00:00+00:00</td>\n",
       "      <td>2020-12-06 11:00:00+00:00</td>\n",
       "      <td>before</td>\n",
       "    </tr>\n",
       "    <tr>\n",
       "      <th>21056</th>\n",
       "      <td>19886</td>\n",
       "      <td>100.0</td>\n",
       "      <td>direct_debit_sent</td>\n",
       "      <td>2020-10-08 14:16:52.155661+00:00</td>\n",
       "      <td>2021-01-05 15:45:52.645536+00:00</td>\n",
       "      <td>44867.0</td>\n",
       "      <td>NaT</td>\n",
       "      <td>NaN</td>\n",
       "      <td>2021-02-05 11:00:00+00:00</td>\n",
       "      <td>2020-10-10</td>\n",
       "      <td>...</td>\n",
       "      <td>accepted</td>\n",
       "      <td>NaN</td>\n",
       "      <td>5.0</td>\n",
       "      <td>Instant Payment Cash Request 19886</td>\n",
       "      <td>2020-10-08 14:17:09.126909+00:00</td>\n",
       "      <td>2020-10-13 14:25:16.470702+00:00</td>\n",
       "      <td>2021-02-11 04:24:07.529815+00:00</td>\n",
       "      <td>NaT</td>\n",
       "      <td>NaT</td>\n",
       "      <td>after</td>\n",
       "    </tr>\n",
       "  </tbody>\n",
       "</table>\n",
       "<p>21057 rows × 30 columns</p>\n",
       "</div>"
      ],
      "text/plain": [
       "       id_cash  amount        status_cash                  created_at_cash  \\\n",
       "0        23534    25.0         money_back 2020-10-23 15:20:26.163927+00:00   \n",
       "1         2203   100.0         money_back 2020-05-27 02:26:27.615190+00:00   \n",
       "2         6098   100.0             active 2020-07-01 09:30:03.145410+00:00   \n",
       "3         6098   100.0             active 2020-07-01 09:30:03.145410+00:00   \n",
       "4         6098   100.0             active 2020-07-01 09:30:03.145410+00:00   \n",
       "...        ...     ...                ...                              ...   \n",
       "21052    22357   100.0         money_back 2020-10-20 07:58:04.006937+00:00   \n",
       "21053    20256   100.0         money_back 2020-10-10 05:40:55.700422+00:00   \n",
       "21054    20256   100.0         money_back 2020-10-10 05:40:55.700422+00:00   \n",
       "21055    19886   100.0  direct_debit_sent 2020-10-08 14:16:52.155661+00:00   \n",
       "21056    19886   100.0  direct_debit_sent 2020-10-08 14:16:52.155661+00:00   \n",
       "\n",
       "                       updated_at_cash  user_id  \\\n",
       "0     2020-12-18 13:08:29.099365+00:00  21465.0   \n",
       "1     2020-06-09 11:25:51.726360+00:00   2109.0   \n",
       "2     2020-08-11 22:27:58.240406+00:00  23328.0   \n",
       "3     2020-08-11 22:27:58.240406+00:00  23328.0   \n",
       "4     2020-08-11 22:27:58.240406+00:00  23328.0   \n",
       "...                                ...      ...   \n",
       "21052 2021-02-05 12:19:30.656816+00:00  82122.0   \n",
       "21053 2021-02-05 13:14:19.707627+00:00  64517.0   \n",
       "21054 2021-02-05 13:14:19.707627+00:00  64517.0   \n",
       "21055 2021-01-05 15:45:52.645536+00:00  44867.0   \n",
       "21056 2021-01-05 15:45:52.645536+00:00  44867.0   \n",
       "\n",
       "                          moderated_at  deleted_account_id  \\\n",
       "0                                  NaT                 NaN   \n",
       "1     2020-05-27 10:02:13.094467+00:00                 NaN   \n",
       "2     2020-07-01 16:44:53.070844+00:00                 NaN   \n",
       "3     2020-07-01 16:44:53.070844+00:00                 NaN   \n",
       "4     2020-07-01 16:44:53.070844+00:00                 NaN   \n",
       "...                                ...                 ...   \n",
       "21052                              NaT                 NaN   \n",
       "21053                              NaT                 NaN   \n",
       "21054                              NaT                 NaN   \n",
       "21055                              NaT                 NaN   \n",
       "21056                              NaT                 NaN   \n",
       "\n",
       "             reimbursement_date cash_request_received_date  ... status_fees  \\\n",
       "0     2020-11-10 23:51:00+00:00                        NaT  ...    accepted   \n",
       "1     2020-07-15 02:26:27+00:00                 2020-05-29  ...    accepted   \n",
       "2     2020-08-03 22:00:00+00:00                 2020-07-03  ...   cancelled   \n",
       "3     2020-08-03 22:00:00+00:00                 2020-07-03  ...   cancelled   \n",
       "4     2020-08-03 22:00:00+00:00                 2020-07-03  ...   cancelled   \n",
       "...                         ...                        ...  ...         ...   \n",
       "21052 2021-02-05 11:00:00+00:00                 2020-10-21  ...    accepted   \n",
       "21053 2021-02-05 11:00:00+00:00                 2020-10-12  ...    accepted   \n",
       "21054 2021-02-05 11:00:00+00:00                 2020-10-12  ...    accepted   \n",
       "21055 2021-02-05 11:00:00+00:00                 2020-10-10  ...    accepted   \n",
       "21056 2021-02-05 11:00:00+00:00                 2020-10-10  ...    accepted   \n",
       "\n",
       "      category total_amount                              reason  \\\n",
       "0          NaN          5.0  Instant Payment Cash Request 23534   \n",
       "1          NaN          5.0          Postpone Cash Request 2203   \n",
       "2          NaN          5.0          Postpone Cash Request 6098   \n",
       "3          NaN          5.0          Postpone Cash Request 6098   \n",
       "4          NaN          5.0          Postpone Cash Request 6098   \n",
       "...        ...          ...                                 ...   \n",
       "21052      NaN          5.0  Instant Payment Cash Request 22357   \n",
       "21053      NaN          5.0         Postpone Cash Request 20256   \n",
       "21054      NaN          5.0  Instant Payment Cash Request 20256   \n",
       "21055      NaN          5.0         Postpone Cash Request 19886   \n",
       "21056      NaN          5.0  Instant Payment Cash Request 19886   \n",
       "\n",
       "                       created_at_fees                  updated_at_fees  \\\n",
       "0     2020-10-23 15:21:35.895711+00:00 2020-10-23 15:21:35.895740+00:00   \n",
       "1     2020-06-09 11:25:52.449808+00:00 2020-10-13 14:25:00.867548+00:00   \n",
       "2     2020-08-13 10:58:39.634220+00:00 2020-10-13 14:25:16.660127+00:00   \n",
       "3     2020-08-13 10:58:52.603153+00:00 2020-10-13 14:25:16.661371+00:00   \n",
       "4     2020-08-13 11:00:39.879521+00:00 2020-10-13 14:25:16.662449+00:00   \n",
       "...                                ...                              ...   \n",
       "21052 2020-10-20 07:58:19.637461+00:00 2020-10-20 07:58:19.637491+00:00   \n",
       "21053 2020-10-30 17:08:16.906449+00:00 2020-10-30 17:08:21.967966+00:00   \n",
       "21054 2020-10-10 05:42:11.679401+00:00 2020-10-13 14:25:03.460352+00:00   \n",
       "21055 2020-10-10 21:22:00.083739+00:00 2020-10-13 14:25:18.501716+00:00   \n",
       "21056 2020-10-08 14:17:09.126909+00:00 2020-10-13 14:25:16.470702+00:00   \n",
       "\n",
       "                               paid_at                 from_date  \\\n",
       "0     2020-11-06 07:16:22.014422+00:00                       NaT   \n",
       "1                                  NaT 2020-06-15 02:26:27+00:00   \n",
       "2                                  NaT 2020-08-03 22:00:00+00:00   \n",
       "3                                  NaT 2020-08-03 22:00:00+00:00   \n",
       "4                                  NaT 2020-08-03 22:00:00+00:00   \n",
       "...                                ...                       ...   \n",
       "21052 2021-02-05 12:19:30.685779+00:00                       NaT   \n",
       "21053 2020-10-30 17:08:21.416796+00:00 2020-11-06 11:00:00+00:00   \n",
       "21054 2021-02-05 13:14:19.731397+00:00                       NaT   \n",
       "21055 2020-10-10 21:22:04.456828+00:00 2020-11-06 22:00:00+00:00   \n",
       "21056 2021-02-11 04:24:07.529815+00:00                       NaT   \n",
       "\n",
       "                               to_date charge_moment  \n",
       "0                                  NaT         after  \n",
       "1            2020-07-15 02:26:27+00:00        before  \n",
       "2     2020-09-03 10:58:32.274000+00:00         after  \n",
       "3     2020-09-03 10:58:32.274000+00:00         after  \n",
       "4     2020-09-01 11:00:34.027000+00:00         after  \n",
       "...                                ...           ...  \n",
       "21052                              NaT         after  \n",
       "21053        2020-12-07 11:00:00+00:00        before  \n",
       "21054                              NaT         after  \n",
       "21055        2020-12-06 11:00:00+00:00        before  \n",
       "21056                              NaT         after  \n",
       "\n",
       "[21057 rows x 30 columns]"
      ]
     },
     "execution_count": 106,
     "metadata": {},
     "output_type": "execute_result"
    }
   ],
   "source": [
    "merged_df = pd.merge(cash_df, fees_df, left_on='id', right_on='cash_request_id', how='inner', suffixes=['_cash', '_fees'])\n",
    "merged_df"
   ]
  },
  {
   "cell_type": "markdown",
   "metadata": {},
   "source": [
    "> We can now create a new dataframe with only the relevant columns: `user_id`, `type`, `category` and `cohort`"
   ]
  },
  {
   "cell_type": "code",
   "execution_count": 107,
   "metadata": {},
   "outputs": [
    {
     "data": {
      "text/html": [
       "<div>\n",
       "<style scoped>\n",
       "    .dataframe tbody tr th:only-of-type {\n",
       "        vertical-align: middle;\n",
       "    }\n",
       "\n",
       "    .dataframe tbody tr th {\n",
       "        vertical-align: top;\n",
       "    }\n",
       "\n",
       "    .dataframe thead th {\n",
       "        text-align: right;\n",
       "    }\n",
       "</style>\n",
       "<table border=\"1\" class=\"dataframe\">\n",
       "  <thead>\n",
       "    <tr style=\"text-align: right;\">\n",
       "      <th></th>\n",
       "      <th>user_id</th>\n",
       "      <th>type</th>\n",
       "      <th>category</th>\n",
       "      <th>cohort</th>\n",
       "    </tr>\n",
       "  </thead>\n",
       "  <tbody>\n",
       "    <tr>\n",
       "      <th>13782</th>\n",
       "      <td>30491.0</td>\n",
       "      <td>instant_payment</td>\n",
       "      <td>NaN</td>\n",
       "      <td>2020-10</td>\n",
       "    </tr>\n",
       "    <tr>\n",
       "      <th>6278</th>\n",
       "      <td>13672.0</td>\n",
       "      <td>instant_payment</td>\n",
       "      <td>NaN</td>\n",
       "      <td>2020-08</td>\n",
       "    </tr>\n",
       "    <tr>\n",
       "      <th>6595</th>\n",
       "      <td>31751.0</td>\n",
       "      <td>instant_payment</td>\n",
       "      <td>NaN</td>\n",
       "      <td>2020-08</td>\n",
       "    </tr>\n",
       "    <tr>\n",
       "      <th>4210</th>\n",
       "      <td>2562.0</td>\n",
       "      <td>postpone</td>\n",
       "      <td>NaN</td>\n",
       "      <td>2020-06</td>\n",
       "    </tr>\n",
       "    <tr>\n",
       "      <th>1988</th>\n",
       "      <td>10562.0</td>\n",
       "      <td>instant_payment</td>\n",
       "      <td>NaN</td>\n",
       "      <td>2020-10</td>\n",
       "    </tr>\n",
       "    <tr>\n",
       "      <th>8763</th>\n",
       "      <td>80472.0</td>\n",
       "      <td>instant_payment</td>\n",
       "      <td>NaN</td>\n",
       "      <td>2020-10</td>\n",
       "    </tr>\n",
       "    <tr>\n",
       "      <th>18331</th>\n",
       "      <td>99916.0</td>\n",
       "      <td>instant_payment</td>\n",
       "      <td>NaN</td>\n",
       "      <td>2020-10</td>\n",
       "    </tr>\n",
       "    <tr>\n",
       "      <th>10639</th>\n",
       "      <td>778.0</td>\n",
       "      <td>instant_payment</td>\n",
       "      <td>NaN</td>\n",
       "      <td>2020-08</td>\n",
       "    </tr>\n",
       "    <tr>\n",
       "      <th>8692</th>\n",
       "      <td>36243.0</td>\n",
       "      <td>postpone</td>\n",
       "      <td>NaN</td>\n",
       "      <td>2020-08</td>\n",
       "    </tr>\n",
       "    <tr>\n",
       "      <th>17753</th>\n",
       "      <td>36760.0</td>\n",
       "      <td>instant_payment</td>\n",
       "      <td>NaN</td>\n",
       "      <td>2020-10</td>\n",
       "    </tr>\n",
       "  </tbody>\n",
       "</table>\n",
       "</div>"
      ],
      "text/plain": [
       "       user_id             type category   cohort\n",
       "13782  30491.0  instant_payment      NaN  2020-10\n",
       "6278   13672.0  instant_payment      NaN  2020-08\n",
       "6595   31751.0  instant_payment      NaN  2020-08\n",
       "4210    2562.0         postpone      NaN  2020-06\n",
       "1988   10562.0  instant_payment      NaN  2020-10\n",
       "8763   80472.0  instant_payment      NaN  2020-10\n",
       "18331  99916.0  instant_payment      NaN  2020-10\n",
       "10639    778.0  instant_payment      NaN  2020-08\n",
       "8692   36243.0         postpone      NaN  2020-08\n",
       "17753  36760.0  instant_payment      NaN  2020-10"
      ]
     },
     "execution_count": 107,
     "metadata": {},
     "output_type": "execute_result"
    }
   ],
   "source": [
    "incidents_df = merged_df[['user_id', 'type', 'category', 'cohort']]\n",
    "incidents_df.sample(10)"
   ]
  },
  {
   "cell_type": "markdown",
   "metadata": {},
   "source": [
    "> We calculate the incident rate by:  \n",
    "> - getting the count of all payments  \n",
    "> - counting all the incidents - all the payments where `category` is not null.  \n",
    ">  \n",
    "> We group them by `cohort` to create a series so we can see the distribution per cohort."
   ]
  },
  {
   "cell_type": "code",
   "execution_count": 108,
   "metadata": {},
   "outputs": [],
   "source": [
    "total_payments = len(incidents_df)\n",
    "incidents = incidents_df[incidents_df['category'].notna()].groupby('cohort').size()\n",
    "incident_rate = (incidents / total_payments) * 100"
   ]
  },
  {
   "cell_type": "markdown",
   "metadata": {},
   "source": [
    "> As `incidents` now contains a series, we need to convert it to a dataframe to plot it."
   ]
  },
  {
   "cell_type": "code",
   "execution_count": 109,
   "metadata": {},
   "outputs": [
    {
     "data": {
      "text/html": [
       "<div>\n",
       "<style scoped>\n",
       "    .dataframe tbody tr th:only-of-type {\n",
       "        vertical-align: middle;\n",
       "    }\n",
       "\n",
       "    .dataframe tbody tr th {\n",
       "        vertical-align: top;\n",
       "    }\n",
       "\n",
       "    .dataframe thead th {\n",
       "        text-align: right;\n",
       "    }\n",
       "</style>\n",
       "<table border=\"1\" class=\"dataframe\">\n",
       "  <thead>\n",
       "    <tr style=\"text-align: right;\">\n",
       "      <th></th>\n",
       "      <th>Cohort</th>\n",
       "      <th>Incident Rate (%)</th>\n",
       "    </tr>\n",
       "  </thead>\n",
       "  <tbody>\n",
       "    <tr>\n",
       "      <th>0</th>\n",
       "      <td>2020-05</td>\n",
       "      <td>0.208957</td>\n",
       "    </tr>\n",
       "    <tr>\n",
       "      <th>1</th>\n",
       "      <td>2020-06</td>\n",
       "      <td>2.659448</td>\n",
       "    </tr>\n",
       "    <tr>\n",
       "      <th>2</th>\n",
       "      <td>2020-07</td>\n",
       "      <td>3.129601</td>\n",
       "    </tr>\n",
       "    <tr>\n",
       "      <th>3</th>\n",
       "      <td>2020-08</td>\n",
       "      <td>2.365009</td>\n",
       "    </tr>\n",
       "    <tr>\n",
       "      <th>4</th>\n",
       "      <td>2020-09</td>\n",
       "      <td>1.828371</td>\n",
       "    </tr>\n",
       "    <tr>\n",
       "      <th>5</th>\n",
       "      <td>2020-10</td>\n",
       "      <td>0.237451</td>\n",
       "    </tr>\n",
       "  </tbody>\n",
       "</table>\n",
       "</div>"
      ],
      "text/plain": [
       "    Cohort  Incident Rate (%)\n",
       "0  2020-05           0.208957\n",
       "1  2020-06           2.659448\n",
       "2  2020-07           3.129601\n",
       "3  2020-08           2.365009\n",
       "4  2020-09           1.828371\n",
       "5  2020-10           0.237451"
      ]
     },
     "metadata": {},
     "output_type": "display_data"
    }
   ],
   "source": [
    "incident_rate_df = incident_rate.to_frame(name='Incident Rate per Cohort').reset_index()\n",
    "incident_rate_df.columns = ['Cohort', 'Incident Rate (%)']\n",
    "display(incident_rate_df)"
   ]
  },
  {
   "cell_type": "markdown",
   "metadata": {},
   "source": [
    ":::{.callout-tip}\n",
    "We will also export this dataframe to a csv file as we'll need it later.\n",
    ":::"
   ]
  },
  {
   "cell_type": "code",
   "execution_count": 110,
   "metadata": {},
   "outputs": [],
   "source": [
    "pd.DataFrame.to_csv(incident_rate_df, 'incidents.csv', index=False)"
   ]
  },
  {
   "cell_type": "code",
   "execution_count": 111,
   "metadata": {},
   "outputs": [
    {
     "data": {
      "image/png": "[encoded data removed]",
      "text/plain": [
       "<Figure size 1000x600 with 1 Axes>"
      ]
     },
     "metadata": {},
     "output_type": "display_data"
    }
   ],
   "source": [
    "plt.figure(figsize=(10, 6))\n",
    "incident_plot = sns.barplot(data=incident_rate_df, x='Cohort', y='Incident Rate (%)', palette='magma_r')\n",
    "plt.title('Incident Rate per Cohort')\n",
    "plt.ylabel('Incident Rate (%)')\n",
    "plt.xlabel('Cohort')\n",
    "incident_plot.bar_label(incident_plot.containers[0], fmt='%.2f%%')\n",
    "plt.show()"
   ]
  },
  {
   "cell_type": "markdown",
   "metadata": {},
   "source": [
    "### 3. Revenue Generated by the Cohort\n",
    "**Calculate the total revenue generated by each cohort over months to assess the financial impact of user behavior.**"
   ]
  },
  {
   "cell_type": "markdown",
   "metadata": {},
   "source": [
    "> To calculate the revenue generate per cohort we need to again look at both `cash_df` and `fees_df` dataframes.  \n",
    "> We will use `merge_df` with the columns `user_id` and `cohort` from `cash_df` and `total_amount` from `fees_df`.  \n",
    "> We'll also take the `paid_at` column from `fees_df` as we'll consider revenue only payments that have been actually paid - we'll ignore rows that don't have a value in the `paid_at` column."
   ]
  },
  {
   "cell_type": "code",
   "execution_count": 112,
   "metadata": {},
   "outputs": [
    {
     "data": {
      "text/html": [
       "<div>\n",
       "<style scoped>\n",
       "    .dataframe tbody tr th:only-of-type {\n",
       "        vertical-align: middle;\n",
       "    }\n",
       "\n",
       "    .dataframe tbody tr th {\n",
       "        vertical-align: top;\n",
       "    }\n",
       "\n",
       "    .dataframe thead th {\n",
       "        text-align: right;\n",
       "    }\n",
       "</style>\n",
       "<table border=\"1\" class=\"dataframe\">\n",
       "  <thead>\n",
       "    <tr style=\"text-align: right;\">\n",
       "      <th></th>\n",
       "      <th>user_id</th>\n",
       "      <th>cohort</th>\n",
       "      <th>total_amount</th>\n",
       "      <th>paid_at</th>\n",
       "    </tr>\n",
       "  </thead>\n",
       "  <tbody>\n",
       "    <tr>\n",
       "      <th>14773</th>\n",
       "      <td>87706.0</td>\n",
       "      <td>2020-10</td>\n",
       "      <td>5.0</td>\n",
       "      <td>2020-10-26 06:14:29.350912+00:00</td>\n",
       "    </tr>\n",
       "    <tr>\n",
       "      <th>17367</th>\n",
       "      <td>95760.0</td>\n",
       "      <td>2020-10</td>\n",
       "      <td>5.0</td>\n",
       "      <td>2020-11-04 19:57:33.546321+00:00</td>\n",
       "    </tr>\n",
       "    <tr>\n",
       "      <th>17774</th>\n",
       "      <td>96570.0</td>\n",
       "      <td>2020-10</td>\n",
       "      <td>5.0</td>\n",
       "      <td>2020-11-06 19:42:10.416658+00:00</td>\n",
       "    </tr>\n",
       "    <tr>\n",
       "      <th>399</th>\n",
       "      <td>8870.0</td>\n",
       "      <td>2020-05</td>\n",
       "      <td>5.0</td>\n",
       "      <td>NaT</td>\n",
       "    </tr>\n",
       "    <tr>\n",
       "      <th>9006</th>\n",
       "      <td>20820.0</td>\n",
       "      <td>2020-08</td>\n",
       "      <td>5.0</td>\n",
       "      <td>2020-09-17 01:17:06.976498+00:00</td>\n",
       "    </tr>\n",
       "  </tbody>\n",
       "</table>\n",
       "</div>"
      ],
      "text/plain": [
       "       user_id   cohort  total_amount                          paid_at\n",
       "14773  87706.0  2020-10           5.0 2020-10-26 06:14:29.350912+00:00\n",
       "17367  95760.0  2020-10           5.0 2020-11-04 19:57:33.546321+00:00\n",
       "17774  96570.0  2020-10           5.0 2020-11-06 19:42:10.416658+00:00\n",
       "399     8870.0  2020-05           5.0                              NaT\n",
       "9006   20820.0  2020-08           5.0 2020-09-17 01:17:06.976498+00:00"
      ]
     },
     "execution_count": 112,
     "metadata": {},
     "output_type": "execute_result"
    }
   ],
   "source": [
    "revenue_df = merged_df[['user_id', 'cohort', 'total_amount', 'paid_at']]\n",
    "revenue_df.sample(5)"
   ]
  },
  {
   "cell_type": "markdown",
   "metadata": {},
   "source": [
    "> Now we can filter out the rows that don't have a value for `paid_at`"
   ]
  },
  {
   "cell_type": "code",
   "execution_count": 113,
   "metadata": {},
   "outputs": [],
   "source": [
    "revenue_df = revenue_df[revenue_df['paid_at'].notna()]"
   ]
  },
  {
   "cell_type": "markdown",
   "metadata": {},
   "source": [
    "> And now we can calculate the revenue generated by each cohort."
   ]
  },
  {
   "cell_type": "code",
   "execution_count": 114,
   "metadata": {},
   "outputs": [
    {
     "data": {
      "text/plain": [
       "cohort\n",
       "2020-05      290.0\n",
       "2020-06     4155.0\n",
       "2020-07     5430.0\n",
       "2020-08    12445.0\n",
       "2020-09    17715.0\n",
       "2020-10    37065.0\n",
       "2020-11      560.0\n",
       "Freq: M, Name: total_amount, dtype: float64"
      ]
     },
     "execution_count": 114,
     "metadata": {},
     "output_type": "execute_result"
    }
   ],
   "source": [
    "cohort_revenue = revenue_df.groupby('cohort')['total_amount'].sum()\n",
    "cohort_revenue"
   ]
  },
  {
   "cell_type": "code",
   "execution_count": 115,
   "metadata": {},
   "outputs": [],
   "source": [
    "# We save a csv for later use\n",
    "pd.DataFrame.to_csv(revenue_df, 'revenue.csv', index=False)"
   ]
  },
  {
   "cell_type": "code",
   "execution_count": 116,
   "metadata": {},
   "outputs": [
    {
     "data": {
      "image/png": "[encoded data removed]",
      "text/plain": [
       "<Figure size 1000x600 with 1 Axes>"
      ]
     },
     "metadata": {},
     "output_type": "display_data"
    }
   ],
   "source": [
    "plt.figure(figsize=(10, 6))\n",
    "revenue_plot = sns.barplot(x=cohort_revenue.index.astype(str), y=cohort_revenue.values, palette='magma_r')\n",
    "plt.title('Revenue Generated per Cohort')\n",
    "plt.xlabel('Cohort')\n",
    "plt.ylabel('Revenue')\n",
    "# plt.xticks(rotation=45)\n",
    "plt.tight_layout()\n",
    "revenue_plot.bar_label(revenue_plot.containers[0], fmt='{:,.0f}')\n",
    "plt.show()"
   ]
  },
  {
   "cell_type": "markdown",
   "metadata": {},
   "source": [
    "### 4. New Relevant Metric \n",
    "**Propose and calculate a new relevant metric that provides additional insights into user behavior or the performance of IronHack Payments' services.**"
   ]
  },
  {
   "cell_type": "markdown",
   "metadata": {},
   "source": [
    "> Given the data we have there are a couple of relevant metrics we could investigate that would provide additional insights into user behaviour.  \n",
    "> One such metric could be **churn rate** - the percentage of users who stop using the IronHack Payments.  \n",
    ">\n",
    "> To calculate the **churn_rate** we will use the `cash_df` dataframe and calculate the percentage of deleted user accounts per cohort."
   ]
  },
  {
   "cell_type": "code",
   "execution_count": 117,
   "metadata": {},
   "outputs": [
    {
     "data": {
      "text/plain": [
       "cohort\n",
       "2019-11      0\n",
       "2019-12     60\n",
       "2020-01     47\n",
       "2020-02     27\n",
       "2020-03     37\n",
       "2020-04     55\n",
       "2020-05    110\n",
       "2020-06    364\n",
       "2020-07    442\n",
       "2020-08    327\n",
       "2020-09    419\n",
       "2020-10    213\n",
       "2020-11      3\n",
       "Freq: M, Name: deleted_account_id, dtype: int64"
      ]
     },
     "execution_count": 117,
     "metadata": {},
     "output_type": "execute_result"
    }
   ],
   "source": [
    "deleted_accounts = cash_df.groupby('cohort')['deleted_account_id'].count()\n",
    "deleted_df = deleted_accounts\n",
    "deleted_df"
   ]
  },
  {
   "cell_type": "code",
   "execution_count": 118,
   "metadata": {},
   "outputs": [],
   "source": [
    "# we already have a dataframe with created account per cohort\n",
    "churn_df = pd.merge(left=deleted_df, right=cohort_counts.reset_index(), left_on='cohort', right_on='cohort')\n",
    "churn_df.columns = [['cohort', 'deleted_accounts', 'new_accounts']]"
   ]
  },
  {
   "cell_type": "markdown",
   "metadata": {},
   "source": [
    ":::{.callout-tip}\n",
    "To calculate the **churn rate** we use the formula:  \n",
    "$$\n",
    "{Churn Rate} = \\frac{Number of Deleted Accounts}{Number of New Accounts + Number of Deleted Accounts} \\times 100\n",
    "$$\n",
    ":::\n",
    " "
   ]
  },
  {
   "cell_type": "code",
   "execution_count": 119,
   "metadata": {},
   "outputs": [
    {
     "data": {
      "text/html": [
       "<div>\n",
       "<style scoped>\n",
       "    .dataframe tbody tr th:only-of-type {\n",
       "        vertical-align: middle;\n",
       "    }\n",
       "\n",
       "    .dataframe tbody tr th {\n",
       "        vertical-align: top;\n",
       "    }\n",
       "\n",
       "    .dataframe thead tr th {\n",
       "        text-align: left;\n",
       "    }\n",
       "</style>\n",
       "<table border=\"1\" class=\"dataframe\">\n",
       "  <thead>\n",
       "    <tr>\n",
       "      <th></th>\n",
       "      <th>cohort</th>\n",
       "      <th>deleted_accounts</th>\n",
       "      <th>new_accounts</th>\n",
       "      <th>churn_rate</th>\n",
       "    </tr>\n",
       "  </thead>\n",
       "  <tbody>\n",
       "    <tr>\n",
       "      <th>0</th>\n",
       "      <td>2019-12</td>\n",
       "      <td>60</td>\n",
       "      <td>289</td>\n",
       "      <td>17.191977</td>\n",
       "    </tr>\n",
       "    <tr>\n",
       "      <th>1</th>\n",
       "      <td>2020-01</td>\n",
       "      <td>47</td>\n",
       "      <td>223</td>\n",
       "      <td>17.407407</td>\n",
       "    </tr>\n",
       "    <tr>\n",
       "      <th>2</th>\n",
       "      <td>2020-02</td>\n",
       "      <td>27</td>\n",
       "      <td>184</td>\n",
       "      <td>12.796209</td>\n",
       "    </tr>\n",
       "    <tr>\n",
       "      <th>3</th>\n",
       "      <td>2020-03</td>\n",
       "      <td>37</td>\n",
       "      <td>244</td>\n",
       "      <td>13.167260</td>\n",
       "    </tr>\n",
       "    <tr>\n",
       "      <th>4</th>\n",
       "      <td>2020-04</td>\n",
       "      <td>55</td>\n",
       "      <td>473</td>\n",
       "      <td>10.416667</td>\n",
       "    </tr>\n",
       "    <tr>\n",
       "      <th>5</th>\n",
       "      <td>2020-05</td>\n",
       "      <td>110</td>\n",
       "      <td>837</td>\n",
       "      <td>11.615628</td>\n",
       "    </tr>\n",
       "    <tr>\n",
       "      <th>6</th>\n",
       "      <td>2020-06</td>\n",
       "      <td>364</td>\n",
       "      <td>2615</td>\n",
       "      <td>12.218865</td>\n",
       "    </tr>\n",
       "    <tr>\n",
       "      <th>7</th>\n",
       "      <td>2020-07</td>\n",
       "      <td>442</td>\n",
       "      <td>3601</td>\n",
       "      <td>10.932476</td>\n",
       "    </tr>\n",
       "    <tr>\n",
       "      <th>8</th>\n",
       "      <td>2020-08</td>\n",
       "      <td>327</td>\n",
       "      <td>3417</td>\n",
       "      <td>8.733974</td>\n",
       "    </tr>\n",
       "    <tr>\n",
       "      <th>9</th>\n",
       "      <td>2020-09</td>\n",
       "      <td>419</td>\n",
       "      <td>4221</td>\n",
       "      <td>9.030172</td>\n",
       "    </tr>\n",
       "    <tr>\n",
       "      <th>10</th>\n",
       "      <td>2020-10</td>\n",
       "      <td>213</td>\n",
       "      <td>7725</td>\n",
       "      <td>2.683296</td>\n",
       "    </tr>\n",
       "  </tbody>\n",
       "</table>\n",
       "</div>"
      ],
      "text/plain": [
       "     cohort deleted_accounts new_accounts churn_rate\n",
       "0   2019-12               60          289  17.191977\n",
       "1   2020-01               47          223  17.407407\n",
       "2   2020-02               27          184  12.796209\n",
       "3   2020-03               37          244  13.167260\n",
       "4   2020-04               55          473  10.416667\n",
       "5   2020-05              110          837  11.615628\n",
       "6   2020-06              364         2615  12.218865\n",
       "7   2020-07              442         3601  10.932476\n",
       "8   2020-08              327         3417   8.733974\n",
       "9   2020-09              419         4221   9.030172\n",
       "10  2020-10              213         7725   2.683296"
      ]
     },
     "execution_count": 119,
     "metadata": {},
     "output_type": "execute_result"
    }
   ],
   "source": [
    "# we define a function that calculates the churn rate for a row\n",
    "def calculate_churn_rate(row):\n",
    "    if row['new_accounts'] == 0:  # To avoid division by zero\n",
    "        return 0\n",
    "    else:\n",
    "        return float(row['deleted_accounts'] / (row['new_accounts'] + row['deleted_accounts']) * 100)\n",
    "\n",
    "# and we call `.apply` on the `churn_df`; this will return a series\n",
    "churn_rates = churn_df.apply(calculate_churn_rate, axis=1)\n",
    "\n",
    "# and we assign the series to a new column\n",
    "churn_df['churn_rate'] = churn_rates\n",
    "\n",
    "churn_df"
   ]
  },
  {
   "cell_type": "code",
   "execution_count": 152,
   "metadata": {},
   "outputs": [],
   "source": [
    "pd.DataFrame.to_csv(churn_df, 'churn.csv', index=False)"
   ]
  },
  {
   "cell_type": "code",
   "execution_count": 120,
   "metadata": {},
   "outputs": [
    {
     "data": {
      "image/png": "[encoded data removed]",
      "text/plain": [
       "<Figure size 1000x600 with 1 Axes>"
      ]
     },
     "metadata": {},
     "output_type": "display_data"
    }
   ],
   "source": [
    "plt.figure(figsize=(10, 6))\n",
    "churn_plot = sns.barplot(x=churn_df['cohort'].unstack(0), y=churn_rates.values, data=churn_df, palette='magma_r')\n",
    "plt.title('Churn Rate per Cohort')\n",
    "plt.xlabel('Cohort')\n",
    "plt.ylabel('Churn Rate (%)')\n",
    "# plt.xticks(rotation=45)\n",
    "churn_plot.bar_label(churn_plot.containers[0], fmt='%.1f%%')\n",
    "plt.show()"
   ]
  },
  {
   "cell_type": "markdown",
   "metadata": {},
   "source": [
    "## Final considerations\n",
    "\n",
    "The exported CSV files will be used for importing in Tableau to generate a dashboard."
   ]
  }
 ],
 "metadata": {
  "kernelspec": {
   "display_name": "Python 3",
   "language": "python",
   "name": "python3"
  },
  "language_info": {
   "codemirror_mode": {
    "name": "ipython",
    "version": 3
   },
   "file_extension": ".py",
   "mimetype": "text/x-python",
   "name": "python",
   "nbconvert_exporter": "python",
   "pygments_lexer": "ipython3",
   "version": "3.11.9"
  }
 },
 "nbformat": 4,
 "nbformat_minor": 2
}
